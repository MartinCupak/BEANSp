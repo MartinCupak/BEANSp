{
 "cells": [
  {
   "cell_type": "code",
   "execution_count": 1,
   "id": "543e63e2",
   "metadata": {},
   "outputs": [],
   "source": [
    "from beans import settle"
   ]
  },
  {
   "cell_type": "code",
   "execution_count": 3,
   "id": "d8cddaae",
   "metadata": {},
   "outputs": [],
   "source": [
    "base=0.60000059\n",
    "z = 0.02008739\n",
    "x_0 = 0.49989601  \n",
    "mdot = 0.04019903  \n",
    "mass = 1.39993552 \n",
    "radius = 11.20020955\n",
    "cfac =1\n",
    "\n",
    "res = settle(base, z, x_0, mdot, cfac, mass, radius)"
   ]
  },
  {
   "cell_type": "code",
   "execution_count": 4,
   "id": "e1029229",
   "metadata": {},
   "outputs": [
    {
     "data": {
      "text/plain": [
       "rec.array([(14.4233037, 4.76781277, 148.55375952)],\n",
       "          dtype=[('tdel', '<f8'), ('E_b', '<f8'), ('alpha', '<f8')])"
      ]
     },
     "execution_count": 4,
     "metadata": {},
     "output_type": "execute_result"
    }
   ],
   "source": [
    "res"
   ]
  },
  {
   "cell_type": "code",
   "execution_count": null,
   "id": "92479067",
   "metadata": {},
   "outputs": [],
   "source": []
  }
 ],
 "metadata": {
  "kernelspec": {
   "display_name": "Python 3 (ipykernel)",
   "language": "python",
   "name": "python3"
  },
  "language_info": {
   "codemirror_mode": {
    "name": "ipython",
    "version": 3
   },
   "file_extension": ".py",
   "mimetype": "text/x-python",
   "name": "python",
   "nbconvert_exporter": "python",
   "pygments_lexer": "ipython3",
   "version": "3.8.5"
  }
 },
 "nbformat": 4,
 "nbformat_minor": 5
}
