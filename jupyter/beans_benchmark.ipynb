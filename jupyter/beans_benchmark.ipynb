{
 "cells": [
  {
   "cell_type": "markdown",
   "id": "5965c3bc",
   "metadata": {},
   "source": [
    "This notebook is related to work on the [https://github.com/adellej/beans](beans) code for matching observations of thermonuclear bursts to models. \n",
    "\n",
    "The notebook specifically will run settle for a set of cases for which Kepler runs also exist, for a comparison of the outputs, as well as potential benchmarking."
   ]
  },
  {
   "cell_type": "code",
   "execution_count": 7,
   "id": "11de714f",
   "metadata": {},
   "outputs": [],
   "source": [
    "import os\n",
    "import sys\n",
    "\n",
    "# add your path to beans here\n",
    "\n",
    "sys.path.append('/home/martin/src/CIC/Adele/beans/beans')\n",
    "sys.path\n",
    "    \n",
    "from astropy.table import Table\n",
    "from astropy.io import ascii\n",
    "import astropy.units as u\n",
    "\n",
    "from beans import settle"
   ]
  },
  {
   "cell_type": "markdown",
   "id": "7185fde5",
   "metadata": {},
   "source": [
    "## Comparison of `settle` with Kepler\n",
    "\n",
    "Here we want to use the `concord` table and run a `settle` model with each set to compare the results. First need to read in the table"
   ]
  },
  {
   "cell_type": "code",
   "execution_count": 48,
   "id": "274b2d13",
   "metadata": {},
   "outputs": [
    {
     "name": "stdout",
     "output_type": "stream",
     "text": [
      "ft length =  60\n"
     ]
    }
   ],
   "source": [
    "# add your path to the mrt file below\n",
    "\n",
    "ft = ascii.read('table1.mrt')\n",
    "print(\"ft length = \", len(ft))\n",
    "# fixed parameters\n",
    "M_NS, R_NS, Q_b = 1.4, 10., 0.1\n",
    "# print (M_NS, R_NS)\n",
    "# for run in ft:\n",
    "#     print (run['run'], run['mdot'], run['X'], run['Z'])\n",
    "    "
   ]
  },
  {
   "cell_type": "code",
   "execution_count": 57,
   "id": "22312689",
   "metadata": {},
   "outputs": [
    {
     "name": "stdout",
     "output_type": "stream",
     "text": [
      "Cycle # 0  time =  1.2237364609999872\n",
      "Cycle # 1  time =  1.114437742000007\n",
      "Cycle # 2  time =  1.1058325649999574\n",
      "Cycle # 3  time =  1.1025251240000102\n",
      "Cycle # 4  time =  1.0847899830000074\n",
      "Cycle # 5  time =  1.1040753130000098\n",
      "Cycle # 6  time =  1.105951704000006\n",
      "Cycle # 7  time =  1.149295588999962\n",
      "Cycle # 8  time =  1.0791609280000216\n",
      "Cycle # 9  time =  1.1597264619999805\n",
      "Cycle # 10  time =  1.1327649899999983\n",
      "Cycle # 11  time =  1.107408390000046\n",
      "Cycle # 12  time =  1.0999417730000118\n",
      "Cycle # 13  time =  1.1075864760000513\n",
      "Cycle # 14  time =  1.0946540260000006\n",
      "Cycle # 15  time =  1.145442958999979\n",
      "Cycle # 16  time =  1.111205952999967\n",
      "Cycle # 17  time =  1.0650229159999753\n",
      "Cycle # 18  time =  1.1713487499999928\n",
      "Cycle # 19  time =  1.0973940970000058\n",
      "total process time ( 20 loops) =  22.364314041\n",
      "settle sum time ( 20 loops) =  22.330619743999193\n",
      "loop sum time ( 20 loops) =  22.362302200999977\n",
      "average 60 row data table one loop run settle sum time =  1.1165309871999596\n"
     ]
    }
   ],
   "source": [
    "# This section was run on xray, where settle works\n",
    "\n",
    "tdel, E_b, alpha = [], [], []\n",
    "\n",
    "import time\n",
    "t_start = time.process_time()\n",
    "t1_sum = 0.0\n",
    "t2_sum = 0.0\n",
    "\n",
    "num_runs=20\n",
    "\n",
    "for j in range(num_runs):\n",
    "    t2_start = time.process_time()\n",
    "    for i, run in enumerate(ft['run']):\n",
    "        ### print ('Running settle for run #{}...'.format(run))\n",
    "        # need to convert the mdot here, I think this is right\n",
    "        # In the MRT file accretion rate is given as a fraction of the Eddington rate, i.e.  \n",
    "        # Mdot_Edd = 8.8e4/(1+X) g/cm^2/s; and since settle uses fraction of 8.8e4, we have\n",
    "        # an extra factor of (1+X) in the MRT values that we need to divide by\n",
    "        t1_start = time.process_time()\n",
    "        res = settle(Q_b, ft[i]['Z'], ft[i]['X'], ft[i]['mdot']/(1+ft[i]['X']), 1.0, M_NS, R_NS)\n",
    "        t1_end = time.process_time()\n",
    "        t1_sum += (t1_end-t1_start)\n",
    "        tdel.append(res['tdel'][0])\n",
    "        E_b.append(res['E_b'][0])\n",
    "        alpha.append(res['alpha'][0])\n",
    "    t2_end = time.process_time()\n",
    "    t2_sum += (t2_end-t2_start)\n",
    "    print(\"Cycle #\", j, \" time = \", (t2_end-t2_start))\n",
    "\n",
    "t_end = time.process_time()\n",
    "print(\"total process time (\",num_runs, \"loops) = \", t_end - t_start)\n",
    "print(\"settle sum time (\",num_runs, \"loops) = \", t1_sum)\n",
    "print(\"loop sum time (\",num_runs, \"loops) = \", t2_sum)\n",
    "print(\"average\", len(ft), \"row data table one loop run settle sum time = \", t1_sum/num_runs)\n",
    "    \n",
    "t = Table([ft['run'], tdel[ : len(ft)], E_b[ : len(ft)], alpha[ : len(ft)]])\n",
    "t.write('settle.txt', format='ascii', overwrite=True)"
   ]
  },
  {
   "cell_type": "code",
   "execution_count": null,
   "id": "fd5e27c4",
   "metadata": {},
   "outputs": [],
   "source": []
  },
  {
   "cell_type": "code",
   "execution_count": null,
   "id": "d7b81da2",
   "metadata": {},
   "outputs": [],
   "source": []
  },
  {
   "cell_type": "code",
   "execution_count": null,
   "id": "cad76842",
   "metadata": {},
   "outputs": [],
   "source": []
  }
 ],
 "metadata": {
  "kernelspec": {
   "display_name": "Python 3 (ipykernel)",
   "language": "python",
   "name": "python3"
  },
  "language_info": {
   "codemirror_mode": {
    "name": "ipython",
    "version": 3
   },
   "file_extension": ".py",
   "mimetype": "text/x-python",
   "name": "python",
   "nbconvert_exporter": "python",
   "pygments_lexer": "ipython3",
   "version": "3.8.0"
  }
 },
 "nbformat": 4,
 "nbformat_minor": 5
}
