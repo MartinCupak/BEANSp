{
 "cells": [
  {
   "cell_type": "markdown",
   "id": "5965c3bc",
   "metadata": {},
   "source": [
    "This notebook is related to work on the [https://github.com/adellej/beans](beans) code for matching observations of thermonuclear bursts to models. \n",
    "\n",
    "The notebook specifically will run settle for a set of cases for which Kepler runs also exist, for a comparison of the outputs, as well as potential benchmarking."
   ]
  },
  {
   "cell_type": "code",
   "execution_count": 1,
   "id": "11de714f",
   "metadata": {},
   "outputs": [],
   "source": [
    "import os\n",
    "import sys\n",
    "\n",
    "# add your path to beans here\n",
    "\n",
    "sys.path.append('/Users/duncan/students/Waterson [2021a]/beans/beans')\n",
    "sys.path\n",
    "    \n",
    "from astropy.table import Table\n",
    "from astropy.io import ascii\n",
    "import astropy.units as u\n",
    "\n",
    "from beans import settle"
   ]
  },
  {
   "cell_type": "markdown",
   "id": "7185fde5",
   "metadata": {},
   "source": [
    "## Comparison of `settle` with Kepler\n",
    "\n",
    "Here we want to use the `concord` table and run a `settle` model with each set to compare the results. First need to read in the table"
   ]
  },
  {
   "cell_type": "code",
   "execution_count": 2,
   "id": "274b2d13",
   "metadata": {},
   "outputs": [],
   "source": [
    "# add your path to the mrt file below\n",
    "\n",
    "ft = ascii.read('/Users/duncan/projects/concord/table1.mrt')\n",
    "# fixed parameters\n",
    "M_NS, R_NS, Q_b = 1.4, 10., 0.1\n",
    "# print (M_NS, R_NS)\n",
    "# for run in ft:\n",
    "#     print (run['run'], run['mdot'], run['X'], run['Z'])\n",
    "    "
   ]
  },
  {
   "cell_type": "code",
   "execution_count": 27,
   "id": "22312689",
   "metadata": {},
   "outputs": [
    {
     "name": "stdout",
     "output_type": "stream",
     "text": [
      "Running settle for run #1...\n"
     ]
    },
    {
     "data": {
      "text/plain": [
       "rec.array([(nan, 0., 0.)],\n",
       "          dtype=[('tdel', '<f8'), ('E_b', '<f8'), ('alpha', '<f8')])"
      ]
     },
     "execution_count": 27,
     "metadata": {},
     "output_type": "execute_result"
    }
   ],
   "source": [
    "# This section was run on xray, where settle works\n",
    "\n",
    "tdel, E_b, alpha = [], [], []\n",
    "for i, run in enumerate(ft['run']):\n",
    "    print ('Running settle for run #{}...'.format(run))\n",
    "    # need to convert the mdot here, I think this is right\n",
    "    # In the MRT file accretion rate is given as a fraction of the Eddington rate, i.e.  \n",
    "    # Mdot_Edd = 8.8e4/(1+X) g/cm^2/s; and since settle uses fraction of 8.8e4, we have\n",
    "    # an extra factor of (1+X) in the MRT values that we need to divide by\n",
    "    res = settle(Q_b, ft[i]['Z'], ft[i]['X'], ft[i]['mdot']/(1+ft[i]['X']), 1.0, M_NS, R_NS)\n",
    "    tdel.append(res['tdel'][0])\n",
    "    E_b.append(res['E_b'][0])\n",
    "    alpha.append(res['alpha'][0])\n",
    "\n",
    "t = Table([ft['run'], tdel, E_b, alpha])\n",
    "t.write('settle.txt', format='ascii')"
   ]
  },
  {
   "cell_type": "code",
   "execution_count": null,
   "id": "fd5e27c4",
   "metadata": {},
   "outputs": [],
   "source": []
  }
 ],
 "metadata": {
  "kernelspec": {
   "display_name": "Python 3 (ipykernel)",
   "language": "python",
   "name": "python3"
  },
  "language_info": {
   "codemirror_mode": {
    "name": "ipython",
    "version": 3
   },
   "file_extension": ".py",
   "mimetype": "text/x-python",
   "name": "python",
   "nbconvert_exporter": "python",
   "pygments_lexer": "ipython3",
   "version": "3.9.10"
  }
 },
 "nbformat": 4,
 "nbformat_minor": 5
}
